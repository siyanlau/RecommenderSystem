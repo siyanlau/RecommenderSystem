{
 "cells": [
  {
   "cell_type": "markdown",
   "metadata": {
    "id": "UsZ_E6-lGY3h"
   },
   "source": [
    "# Movie Recommendation System"
   ]
  },
  {
   "cell_type": "markdown",
   "metadata": {
    "id": "hcTZTmgEGdjm"
   },
   "source": [
    "## Data Preprocessing"
   ]
  },
  {
   "cell_type": "code",
   "execution_count": 1,
   "metadata": {
    "colab": {
     "base_uri": "https://localhost:8080/"
    },
    "id": "aogsy8DNH5vh",
    "outputId": "6cdf8c49-193d-42d6-a529-618916bb993e"
   },
   "outputs": [
    {
     "name": "stdout",
     "output_type": "stream",
     "text": [
      "Defaulting to user installation because normal site-packages is not writeable\n",
      "Requirement already satisfied: pyspark in /ext3/pyspark/lib/python3.8/site-packages (3.1.2)\n",
      "Requirement already satisfied: py4j==0.10.9 in /ext3/pyspark/lib/python3.8/site-packages (from pyspark) (0.10.9)\n"
     ]
    }
   ],
   "source": [
    "!pip install pyspark"
   ]
  },
  {
   "cell_type": "code",
   "execution_count": 2,
   "metadata": {
    "id": "FhaDynekGYQ6"
   },
   "outputs": [],
   "source": [
    "from pyspark import SparkContext\n",
    "from pyspark.sql import SparkSession\n",
    "from pyspark.mllib.recommendation import ALS, Rating\n",
    "from pyspark.sql import functions as F\n",
    "import random\n",
    "from pyspark.sql.types import StructType, StructField, IntegerType, FloatType, ArrayType\n",
    "from pyspark.sql.functions import udf, col, sum, explode"
   ]
  },
  {
   "cell_type": "code",
   "execution_count": null,
   "metadata": {
    "id": "SWVsSZlSJSZT"
   },
   "outputs": [],
   "source": [
    "# Initialize Spark session\n",
    "spark = SparkSession.builder \\\n",
    "    .appName(\"ALS Recommendation System\") \\\n",
    "    .master(\"spark://cm009:33793\") \\\n",
    "    .getOrCreate()"
   ]
  },
  {
   "cell_type": "code",
   "execution_count": 4,
   "metadata": {
    "colab": {
     "base_uri": "https://localhost:8080/"
    },
    "id": "EvJMif4eIpxJ",
    "outputId": "8bd2bae1-ec6d-406f-d6e0-923b3fd5cd35"
   },
   "outputs": [
    {
     "name": "stderr",
     "output_type": "stream",
     "text": [
      "[Stage 0:>                                                          (0 + 1) / 1]\r"
     ]
    },
    {
     "name": "stdout",
     "output_type": "stream",
     "text": [
      "+------+-------+------+\n",
      "|userId|movieId|rating|\n",
      "+------+-------+------+\n",
      "|     1|      1|   4.0|\n",
      "|     1|    110|   4.0|\n",
      "|     1|    158|   4.0|\n",
      "|     1|    260|   4.5|\n",
      "|     1|    356|   5.0|\n",
      "|     1|    381|   3.5|\n",
      "|     1|    596|   4.0|\n",
      "|     1|   1036|   5.0|\n",
      "|     1|   1049|   3.0|\n",
      "|     1|   1066|   4.0|\n",
      "|     1|   1196|   3.5|\n",
      "|     1|   1200|   3.5|\n",
      "|     1|   1210|   4.5|\n",
      "|     1|   1214|   4.0|\n",
      "|     1|   1291|   5.0|\n",
      "|     1|   1293|   2.0|\n",
      "|     1|   1376|   3.0|\n",
      "|     1|   1396|   3.0|\n",
      "|     1|   1537|   4.0|\n",
      "|     1|   1909|   3.0|\n",
      "+------+-------+------+\n",
      "only showing top 20 rows\n",
      "\n"
     ]
    },
    {
     "name": "stderr",
     "output_type": "stream",
     "text": [
      "                                                                                \r"
     ]
    }
   ],
   "source": [
    "data = spark.read.csv(\"ml-latest/ratings-large.csv\", header=True, schema=\"userId INT, movieId INT, rating FLOAT\")\n",
    "data.show()"
   ]
  },
  {
   "cell_type": "code",
   "execution_count": 15,
   "metadata": {},
   "outputs": [
    {
     "name": "stderr",
     "output_type": "stream",
     "text": [
      "[Stage 55:=====================================>                 (27 + 13) / 40]\r"
     ]
    },
    {
     "name": "stdout",
     "output_type": "stream",
     "text": [
      "+-------+------+------+------------+\n",
      "|movieId|userId|rating|rating_count|\n",
      "+-------+------+------+------------+\n",
      "|    858| 51022|   5.0|       75004|\n",
      "|    858| 51031|   3.5|       75004|\n",
      "|    858| 51032|   5.0|       75004|\n",
      "|    858| 51036|   4.5|       75004|\n",
      "|    858| 51041|   2.0|       75004|\n",
      "|    858| 51043|   4.0|       75004|\n",
      "|    858| 51044|   4.0|       75004|\n",
      "|    858| 51047|   4.5|       75004|\n",
      "|    858| 51049|   4.5|       75004|\n",
      "|    858| 51053|   4.0|       75004|\n",
      "|    858| 51059|   5.0|       75004|\n",
      "|    858| 51062|   4.5|       75004|\n",
      "|    858| 51068|   3.0|       75004|\n",
      "|    858| 51073|   5.0|       75004|\n",
      "|    858| 51078|   2.0|       75004|\n",
      "|    858| 51081|   4.5|       75004|\n",
      "|    858| 51089|   4.0|       75004|\n",
      "|    858| 51097|   5.0|       75004|\n",
      "|    858| 51098|   5.0|       75004|\n",
      "|    858| 51099|   4.5|       75004|\n",
      "+-------+------+------+------------+\n",
      "only showing top 20 rows\n",
      "\n"
     ]
    },
    {
     "name": "stderr",
     "output_type": "stream",
     "text": [
      "                                                                                \r"
     ]
    }
   ],
   "source": [
    "# Group by movieId and count the number of ratings for each movie\n",
    "movie_ratings_count = data.groupBy(\"movieId\").agg(F.count(\"movieId\").alias(\"rating_count\"))\n",
    "\n",
    "# Filter out movies with less than 1000 ratings\n",
    "popular_movies = movie_ratings_count.filter(col(\"rating_count\") >= 50000)\n",
    "\n",
    "popular_movies.count()\n",
    "\n",
    "# Join the original DataFrame with popular_movies on movieId to retain all user ID information\n",
    "filtered_data = data.join(popular_movies, \"movieId\", \"inner\")\n",
    "\n",
    "# Show the resulting DataFrame\n",
    "filtered_data.show()"
   ]
  },
  {
   "cell_type": "code",
   "execution_count": 14,
   "metadata": {},
   "outputs": [
    {
     "name": "stderr",
     "output_type": "stream",
     "text": [
      "                                                                                \r"
     ]
    },
    {
     "data": {
      "text/plain": [
       "7470434"
      ]
     },
     "execution_count": 14,
     "metadata": {},
     "output_type": "execute_result"
    }
   ],
   "source": [
    "filtered_data.count()"
   ]
  },
  {
   "cell_type": "code",
   "execution_count": 17,
   "metadata": {
    "id": "rPc3bPBwKfDP"
   },
   "outputs": [],
   "source": [
    "train_ratio = 0.7\n",
    "validation_ratio = 0.1\n",
    "test_ratio = 0.2"
   ]
  },
  {
   "cell_type": "code",
   "execution_count": 18,
   "metadata": {
    "id": "uPk_T4pUOJ6R"
   },
   "outputs": [],
   "source": [
    "# partitioning *one* user\n",
    "def partition_ratings(user_id, ratings_list):\n",
    "    total_ratings = len(ratings_list)\n",
    "    train_count = int(total_ratings * train_ratio)\n",
    "    validation_count = int(total_ratings * validation_ratio)\n",
    "    test_count = total_ratings - train_count - validation_count\n",
    "\n",
    "    # Generate random indices for each set\n",
    "    indices = list(range(total_ratings))\n",
    "    random.seed(42)\n",
    "    random.shuffle(indices)\n",
    "    train_indices = indices[:train_count]\n",
    "    validation_indices = indices[train_count:train_count + validation_count]\n",
    "    test_indices = indices[train_count + validation_count:]\n",
    "\n",
    "    # Partition the ratings based on the selected indices\n",
    "    train_set = [(user_id, movie_id, rating) for (movie_id, rating) in [ratings_list[i] for i in train_indices]]\n",
    "    validation_set = [(user_id, movie_id, rating) for (movie_id, rating) in [ratings_list[i] for i in validation_indices]]\n",
    "    test_set = [(user_id, movie_id, rating) for (movie_id, rating) in [ratings_list[i] for i in test_indices]]\n",
    "    print(len(train_set))\n",
    "    print(len(validation_set))\n",
    "    print(len(test_set))\n",
    "\n",
    "    return train_set, validation_set, test_set"
   ]
  },
  {
   "cell_type": "code",
   "execution_count": 19,
   "metadata": {
    "id": "CpIXEHsHIOql"
   },
   "outputs": [],
   "source": [
    "# potential optimization: filter out rows that are not in your split's indices - need to read table three times though - need some more custom\n",
    "# `filter` method that allows branching\n",
    "\n",
    "def train_val_test_split(data):\n",
    "    grouped_ratings = data.groupby('userId').agg(F.collect_list(F.struct('movieId', 'rating')).alias('ratings'))\n",
    "\n",
    "    schema = StructType([\n",
    "    StructField(\"train\", ArrayType(StructType([\n",
    "        StructField(\"userId\", IntegerType(), False),\n",
    "        StructField(\"movieId\", IntegerType(), False),\n",
    "        StructField(\"rating\", FloatType(), False)\n",
    "    ])), False),\n",
    "    StructField(\"validation\", ArrayType(StructType([\n",
    "        StructField(\"userId\", IntegerType(), False),\n",
    "        StructField(\"movieId\", IntegerType(), False),\n",
    "        StructField(\"rating\", FloatType(), False)\n",
    "    ])), False),\n",
    "    StructField(\"test\", ArrayType(StructType([\n",
    "        StructField(\"userId\", IntegerType(), False),\n",
    "        StructField(\"movieId\", IntegerType(), False),\n",
    "        StructField(\"rating\", FloatType(), False)\n",
    "    ])), False)\n",
    "    ])\n",
    "\n",
    "    # UDF to apply partition_ratings function to each row of the DataFrame\n",
    "    partition_udf = udf(lambda user_id, ratings_list: partition_ratings(user_id, ratings_list), schema)\n",
    "\n",
    "    # This will be cleaned by garbage collector after the function returns\n",
    "    partitioned_ratings_df = grouped_ratings.withColumn('partitioned_data', partition_udf(col('userId'), col('ratings')))\n",
    "\n",
    "    # Extract the three partitions into separate columns\n",
    "    train_data = partitioned_ratings_df.selectExpr(\"partitioned_data['train'] AS train_data\").withColumn(\"exploded\", explode('train_data')).drop('train_data').select(col('exploded.userId').alias('userId'),\n",
    "                                     col('exploded.movieId').alias('movieId'),\n",
    "                                     col('exploded.rating').alias('rating'))\n",
    "\n",
    "    test_data = partitioned_ratings_df.selectExpr(\"partitioned_data['test'] AS test_data\").withColumn(\"exploded\", explode('test_data')).drop('test_data').select(col('exploded.userId').alias('userId'),\n",
    "                                     col('exploded.movieId').alias('movieId'),\n",
    "                                     col('exploded.rating').alias('rating'))\n",
    "\n",
    "    validation_data = partitioned_ratings_df.selectExpr(\"partitioned_data['validation'] AS validation_data\").withColumn(\"exploded\", explode('validation_data')).drop('validation_data').select(col('exploded.userId').alias('userId'),\n",
    "                                     col('exploded.movieId').alias('movieId'),\n",
    "                                     col('exploded.rating').alias('rating'))\n",
    "\n",
    "    return train_data, test_data, validation_data\n"
   ]
  },
  {
   "cell_type": "code",
   "execution_count": 21,
   "metadata": {
    "id": "KiVVuM0r0SN7"
   },
   "outputs": [],
   "source": [
    "train_data, test_data, validation_data = train_val_test_split(filtered_data)"
   ]
  },
  {
   "cell_type": "code",
   "execution_count": 22,
   "metadata": {
    "colab": {
     "base_uri": "https://localhost:8080/"
    },
    "id": "Dymf5fwMPaa0",
    "outputId": "3126209b-fed6-4952-cfdb-8d8d180c8018"
   },
   "outputs": [
    {
     "name": "stderr",
     "output_type": "stream",
     "text": [
      "[Stage 63:===============================================>     (180 + 20) / 200]\r"
     ]
    },
    {
     "name": "stdout",
     "output_type": "stream",
     "text": [
      "Length of train_data: 2083738\n"
     ]
    },
    {
     "name": "stderr",
     "output_type": "stream",
     "text": [
      "                                                                                \r"
     ]
    }
   ],
   "source": [
    "num_rows = train_data.count()\n",
    "print(\"Length of train_data:\", num_rows)\n",
    "\n",
    "# first_row = train_data.select('train_data').first()\n",
    "# num_elements = len(first_row[0])\n",
    "# print(\"Length of train_data[0]\", num_elements)"
   ]
  },
  {
   "cell_type": "code",
   "execution_count": 23,
   "metadata": {
    "colab": {
     "base_uri": "https://localhost:8080/"
    },
    "id": "XBltTtABaARj",
    "outputId": "62040f38-4969-4871-90d2-5cfc9981a4c4"
   },
   "outputs": [
    {
     "name": "stderr",
     "output_type": "stream",
     "text": [
      "[Stage 67:===============================================>     (180 + 20) / 200]\r"
     ]
    },
    {
     "name": "stdout",
     "output_type": "stream",
     "text": [
      "+------+-------+------+\n",
      "|userId|movieId|rating|\n",
      "+------+-------+------+\n",
      "|   148|      1|   3.0|\n",
      "|   148|    110|   3.0|\n",
      "|   148|     50|   5.0|\n",
      "|   148|    527|   1.0|\n",
      "|   148|    592|   2.0|\n",
      "|   148|    589|   3.0|\n",
      "|   148|    590|   1.0|\n",
      "|   148|    593|   2.0|\n",
      "|   148|    318|   3.0|\n",
      "|   148|     47|   1.0|\n",
      "+------+-------+------+\n",
      "only showing top 10 rows\n",
      "\n"
     ]
    },
    {
     "name": "stderr",
     "output_type": "stream",
     "text": [
      "                                                                                \r"
     ]
    }
   ],
   "source": [
    "train_data.show(10)"
   ]
  },
  {
   "cell_type": "markdown",
   "metadata": {
    "id": "MaP1SiXmV2mP"
   },
   "source": [
    "## Popularity Based Model"
   ]
  },
  {
   "cell_type": "code",
   "execution_count": 24,
   "metadata": {
    "id": "bEZP9HV1VyWK"
   },
   "outputs": [],
   "source": [
    "from pyspark.sql.functions import count, desc"
   ]
  },
  {
   "cell_type": "code",
   "execution_count": 25,
   "metadata": {
    "colab": {
     "base_uri": "https://localhost:8080/"
    },
    "id": "pZiL8uMrftuA",
    "outputId": "eb040fad-a50e-4471-d3dc-588250acfb8e"
   },
   "outputs": [
    {
     "name": "stdout",
     "output_type": "stream",
     "text": [
      "root\n",
      " |-- userId: integer (nullable = true)\n",
      " |-- movieId: integer (nullable = true)\n",
      " |-- rating: float (nullable = true)\n",
      "\n"
     ]
    }
   ],
   "source": [
    "data.printSchema()"
   ]
  },
  {
   "cell_type": "code",
   "execution_count": 26,
   "metadata": {
    "id": "GNZnAsy5dmbk"
   },
   "outputs": [],
   "source": [
    "popularity = data.groupBy('movieId').agg(sum('rating').alias('total_ratings_sum')).sort(desc('total_ratings_sum'))"
   ]
  },
  {
   "cell_type": "code",
   "execution_count": 27,
   "metadata": {
    "colab": {
     "base_uri": "https://localhost:8080/"
    },
    "id": "NKCAi5gdgpnL",
    "outputId": "07bb64f4-64aa-4197-c25c-89d15890254b"
   },
   "outputs": [
    {
     "name": "stderr",
     "output_type": "stream",
     "text": [
      "[Stage 69:===============================>                       (23 + 17) / 40]\r"
     ]
    },
    {
     "name": "stdout",
     "output_type": "stream",
     "text": [
      "+-------+-----------------+\n",
      "|movieId|total_ratings_sum|\n",
      "+-------+-----------------+\n",
      "|    318|         540156.0|\n",
      "|    356|         462069.0|\n",
      "|    296|         455881.0|\n",
      "|   2571|         445420.5|\n",
      "|    593|         422507.5|\n",
      "|    260|         397789.5|\n",
      "|   2959|         365174.5|\n",
      "|    527|         357340.5|\n",
      "|   1196|         330266.0|\n",
      "|   4993|         327700.5|\n",
      "|    858|         324512.5|\n",
      "|     50|         311097.5|\n",
      "|   7153|         310368.0|\n",
      "|   1198|         308595.0|\n",
      "|    480|         306284.0|\n",
      "|   1210|         305656.5|\n",
      "|    110|         301766.5|\n",
      "|   5952|         300707.0|\n",
      "|      1|         299072.0|\n",
      "|   2858|         286713.5|\n",
      "+-------+-----------------+\n",
      "only showing top 20 rows\n",
      "\n"
     ]
    },
    {
     "name": "stderr",
     "output_type": "stream",
     "text": [
      "                                                                                \r"
     ]
    }
   ],
   "source": [
    "popularity.show()"
   ]
  },
  {
   "cell_type": "code",
   "execution_count": 28,
   "metadata": {},
   "outputs": [],
   "source": [
    "popular_100 = popularity.limit(100)"
   ]
  },
  {
   "cell_type": "markdown",
   "metadata": {
    "id": "-K56pYXRkTi3"
   },
   "source": [
    "## Latent Factor Model"
   ]
  },
  {
   "cell_type": "code",
   "execution_count": 29,
   "metadata": {
    "id": "0XnEN2OakXjW"
   },
   "outputs": [],
   "source": [
    "from pyspark.ml.evaluation import RegressionEvaluator\n",
    "from pyspark.ml.recommendation import ALS\n",
    "from pyspark.ml.tuning import CrossValidator, ParamGridBuilder"
   ]
  },
  {
   "cell_type": "markdown",
   "metadata": {
    "id": "yGUuVb2e1U-D"
   },
   "source": [
    "Model Selection: With limited data (using the smaller dataset), let's select the best performing hyperparameters"
   ]
  },
  {
   "cell_type": "code",
   "execution_count": 30,
   "metadata": {
    "id": "T2KvoUhEmUOB"
   },
   "outputs": [],
   "source": [
    "# Define ALS model\n",
    "als = ALS(userCol=\"userId\", itemCol=\"movieId\", ratingCol=\"rating\", coldStartStrategy=\"drop\") #maxIter = 10, rank = 10\n",
    "\n",
    "# # Define parameter grid\n",
    "# param_grid = ParamGridBuilder() \\\n",
    "#     .addGrid(als.maxIter, [5]) \\\n",
    "#     .addGrid(als.rank, [15]) \\\n",
    "#     .build()"
   ]
  },
  {
   "cell_type": "code",
   "execution_count": 31,
   "metadata": {
    "id": "cbmAlg1x9atX"
   },
   "outputs": [],
   "source": [
    "rank_list = [10, 20, 30]\n",
    "reg_param_list = [0.1, 0.01]\n",
    "max_iter_list = [10, 20]"
   ]
  },
  {
   "cell_type": "code",
   "execution_count": null,
   "metadata": {
    "colab": {
     "base_uri": "https://localhost:8080/"
    },
    "id": "3nRH6-Al-peU",
    "outputId": "f895ca68-3e11-4599-e41d-a1621ddda46e"
   },
   "outputs": [
    {
     "name": "stdout",
     "output_type": "stream",
     "text": [
      "evaluating model: rank 10, reg_param 0.1, max_iter 10\n",
      "evaluating model: rank 10, reg_param 0.1, max_iter 20\n",
      "evaluating model: rank 10, reg_param 0.01, max_iter 10\n",
      "evaluating model: rank 10, reg_param 0.01, max_iter 20\n",
      "evaluating model: rank 20, reg_param 0.1, max_iter 10\n",
      "evaluating model: rank 20, reg_param 0.1, max_iter 20\n",
      "evaluating model: rank 20, reg_param 0.01, max_iter 10\n",
      "evaluating model: rank 20, reg_param 0.01, max_iter 20\n",
      "evaluating model: rank 30, reg_param 0.1, max_iter 10\n",
      "evaluating model: rank 30, reg_param 0.1, max_iter 20\n",
      "evaluating model: rank 30, reg_param 0.01, max_iter 10\n",
      "evaluating model: rank 30, reg_param 0.01, max_iter 20\n"
     ]
    }
   ],
   "source": [
    "rmse = []\n",
    "for rank in rank_list:\n",
    "    for reg_param in reg_param_list:\n",
    "        for max_iter in max_iter_list:\n",
    "            print(f\"evaluating model: rank {rank}, reg_param {reg_param}, max_iter {max_iter}\")\n",
    "            als = ALS(userCol=\"userId\", itemCol=\"movieId\", ratingCol=\"rating\", coldStartStrategy=\"drop\")\n",
    "            als.setRank(rank)\n",
    "            als.setRegParam(reg_param)\n",
    "            als.setMaxIter(max_iter)\n",
    "            model = als.fit(train_data)\n",
    "            evaluator=RegressionEvaluator(metricName=\"rmse\",labelCol=\"rating\",predictionCol=\"prediction\")\n",
    "            predictions=model.transform(validation_data)\n",
    "            loss=evaluator.evaluate(predictions)\n",
    "            rmse.append((rank, reg_param, max_iter, loss))"
   ]
  },
  {
   "cell_type": "code",
   "execution_count": null,
   "metadata": {
    "colab": {
     "base_uri": "https://localhost:8080/"
    },
    "id": "ZmqoZIWcAncm",
    "outputId": "defcf65a-ac3b-42ba-c15f-1359c54dd0d4"
   },
   "outputs": [
    {
     "name": "stdout",
     "output_type": "stream",
     "text": [
      "[(10, 0.1, 10, 0.8960124165831306), (10, 0.1, 20, 0.891636139154729), (10, 0.01, 10, 1.1626709986100443), (10, 0.01, 20, 1.189762887715596), (20, 0.1, 10, 0.8933265392660743), (20, 0.1, 20, 0.8911999626018452), (20, 0.01, 10, 1.2594200867313885), (20, 0.01, 20, 1.2818195524256082), (30, 0.1, 10, 0.8896305173338086), (30, 0.1, 20, 0.8889671471587874), (30, 0.01, 10, 1.3464718282456434), (30, 0.01, 20, 1.33212001073361)]\n"
     ]
    }
   ],
   "source": [
    "print(rmse)"
   ]
  },
  {
   "cell_type": "markdown",
   "metadata": {
    "id": "lZH-UsmJJ_nD"
   },
   "source": [
    "Overfitting has been clearly displayed in many of the hyperparamter combinations."
   ]
  },
  {
   "cell_type": "code",
   "execution_count": 21,
   "metadata": {
    "id": "ga42vbLNKay7"
   },
   "outputs": [],
   "source": [
    "rank_list = [5, 10, 20]\n",
    "reg_param_list = [0.05, 0.1, 0.5]\n",
    "max_iter_list = [5, 10]"
   ]
  },
  {
   "cell_type": "code",
   "execution_count": null,
   "metadata": {
    "colab": {
     "base_uri": "https://localhost:8080/"
    },
    "id": "VxyXscWOLHnV",
    "outputId": "621820e3-7e86-4707-eca9-fda4c367c436",
    "scrolled": true
   },
   "outputs": [
    {
     "name": "stdout",
     "output_type": "stream",
     "text": [
      "evaluating model: rank 5, reg_param 0.05, max_iter 5\n",
      "rmse = 0.9381609181376621\n",
      "evaluating model: rank 5, reg_param 0.05, max_iter 10\n",
      "rmse = 0.9442073093559297\n",
      "evaluating model: rank 5, reg_param 0.1, max_iter 5\n",
      "rmse = 0.8969699690226526\n",
      "evaluating model: rank 5, reg_param 0.1, max_iter 10\n",
      "rmse = 0.8947458079251303\n",
      "evaluating model: rank 5, reg_param 0.5, max_iter 5\n",
      "rmse = 0.9984674030247629\n",
      "evaluating model: rank 5, reg_param 0.5, max_iter 10\n",
      "rmse = 1.0041226002238426\n",
      "evaluating model: rank 10, reg_param 0.05, max_iter 5\n",
      "rmse = 0.9712526068508573\n",
      "evaluating model: rank 10, reg_param 0.05, max_iter 10\n",
      "rmse = 0.9685195032402788\n",
      "evaluating model: rank 10, reg_param 0.1, max_iter 5\n",
      "rmse = 0.9022475756782403\n",
      "evaluating model: rank 10, reg_param 0.1, max_iter 10\n",
      "rmse = 0.8960124165831306\n",
      "evaluating model: rank 10, reg_param 0.5, max_iter 5\n",
      "rmse = 1.0074279530094896\n",
      "evaluating model: rank 10, reg_param 0.5, max_iter 10\n",
      "rmse = 1.004480227145437\n",
      "evaluating model: rank 20, reg_param 0.05, max_iter 5\n",
      "rmse = 0.9852289847839092\n",
      "evaluating model: rank 20, reg_param 0.05, max_iter 10\n",
      "rmse = 0.9781730104289436\n",
      "evaluating model: rank 20, reg_param 0.1, max_iter 5\n",
      "rmse = 0.8966207179031456\n",
      "evaluating model: rank 20, reg_param 0.1, max_iter 10\n",
      "rmse = 0.8933265392660743\n",
      "evaluating model: rank 20, reg_param 0.5, max_iter 5\n",
      "rmse = 1.003779858730969\n",
      "evaluating model: rank 20, reg_param 0.5, max_iter 10\n",
      "rmse = 1.0042922865698916\n"
     ]
    }
   ],
   "source": [
    "rmse = []\n",
    "for rank in rank_list:\n",
    "  for reg_param in reg_param_list:\n",
    "    for max_iter in max_iter_list:\n",
    "      print(f\"evaluating model: rank {rank}, reg_param {reg_param}, max_iter {max_iter}\")\n",
    "      als = ALS(userCol=\"userId\", itemCol=\"movieId\", ratingCol=\"rating\", coldStartStrategy=\"drop\")\n",
    "      als.setRank(rank)\n",
    "      als.setRegParam(reg_param)\n",
    "      als.setMaxIter(max_iter)\n",
    "      model = als.fit(train_data)\n",
    "      evaluator=RegressionEvaluator(metricName=\"rmse\",labelCol=\"rating\",predictionCol=\"prediction\")\n",
    "      predictions=model.transform(validation_data)\n",
    "      loss=evaluator.evaluate(predictions)\n",
    "      print(f\"rmse = {loss}\")\n",
    "      rmse.append((rank, reg_param, max_iter, loss))"
   ]
  },
  {
   "cell_type": "markdown",
   "metadata": {
    "id": "BznDxr1MMcSS"
   },
   "source": [
    "Evaluating all parameter combinations, we choose one that is low-loss and computationally frugal: `rank=10 or 20, reg_param=0.1, max_iter=10`."
   ]
  },
  {
   "cell_type": "markdown",
   "metadata": {
    "id": "AX7JAu0vOZou"
   },
   "source": [
    "## Model Evaluation"
   ]
  },
  {
   "cell_type": "code",
   "execution_count": 32,
   "metadata": {
    "id": "hnY3HLPTOcHK"
   },
   "outputs": [
    {
     "name": "stderr",
     "output_type": "stream",
     "text": [
      "                                                                                \r"
     ]
    }
   ],
   "source": [
    "rank = 10\n",
    "max_iter = 10\n",
    "reg_param = 0.1\n",
    "\n",
    "# Train ALS model\n",
    "als = ALS(userCol=\"userId\", itemCol=\"movieId\", ratingCol=\"rating\", coldStartStrategy=\"drop\")\n",
    "als.setRank(rank)\n",
    "als.setRegParam(reg_param)\n",
    "als.setMaxIter(max_iter)\n",
    "als_model = als.fit(train_data)"
   ]
  },
  {
   "cell_type": "code",
   "execution_count": 33,
   "metadata": {
    "colab": {
     "base_uri": "https://localhost:8080/"
    },
    "id": "lGk6crrYOpjN",
    "outputId": "b709b16b-7043-41ad-d30b-06508e2383e9"
   },
   "outputs": [
    {
     "name": "stderr",
     "output_type": "stream",
     "text": [
      "[Stage 173:==================================================>  (190 + 8) / 200]\r"
     ]
    },
    {
     "name": "stdout",
     "output_type": "stream",
     "text": [
      "ALS RMSE on test data: 0.6285165153565172\n"
     ]
    },
    {
     "name": "stderr",
     "output_type": "stream",
     "text": [
      "                                                                                \r"
     ]
    }
   ],
   "source": [
    "# Evaluate ALS model on test data\n",
    "als_evaluator = RegressionEvaluator(metricName=\"rmse\", labelCol=\"rating\", predictionCol=\"prediction\")\n",
    "als_predictions = als_model.transform(test_data)\n",
    "als_rmse = als_evaluator.evaluate(als_predictions)\n",
    "print(f\"ALS RMSE on test data: {als_rmse}\")"
   ]
  },
  {
   "cell_type": "code",
   "execution_count": 155,
   "metadata": {},
   "outputs": [
    {
     "name": "stderr",
     "output_type": "stream",
     "text": [
      "[Stage 1219:===================================================>(199 + 1) / 200]\r"
     ]
    },
    {
     "name": "stdout",
     "output_type": "stream",
     "text": [
      "ALS RMSE on validation data: 0.810838107029413\n"
     ]
    },
    {
     "name": "stderr",
     "output_type": "stream",
     "text": [
      "                                                                                \r"
     ]
    }
   ],
   "source": [
    "# Evaluate ALS model on validation data\n",
    "als_evaluator = RegressionEvaluator(metricName=\"rmse\", labelCol=\"rating\", predictionCol=\"prediction\")\n",
    "als_predictions = als_model.transform(validation_data)\n",
    "als_rmse = als_evaluator.evaluate(als_predictions)\n",
    "print(f\"ALS RMSE on validation data: {als_rmse}\")"
   ]
  },
  {
   "cell_type": "code",
   "execution_count": 37,
   "metadata": {},
   "outputs": [
    {
     "name": "stderr",
     "output_type": "stream",
     "text": [
      "[Stage 299:===================================================> (196 + 4) / 200]\r"
     ]
    },
    {
     "name": "stdout",
     "output_type": "stream",
     "text": [
      "+------+-------+------+----------+\n",
      "|userId|movieId|rating|prediction|\n",
      "+------+-------+------+----------+\n",
      "| 95216|    148|   3.0| 2.6570385|\n",
      "|297640|    148|   1.0|  2.188863|\n",
      "|250352|    148|   3.0| 2.7228742|\n",
      "|120043|    148|   3.5| 2.2446926|\n",
      "|182465|    148|   1.0| 2.4053843|\n",
      "|178823|    148|   3.0| 2.9604418|\n",
      "|144866|    148|   1.0|  2.693301|\n",
      "| 80238|    148|   2.0| 2.8222027|\n",
      "|142220|    148|   3.0| 3.0233731|\n",
      "|238584|    148|   3.0| 2.8368232|\n",
      "|124271|    148|   1.0| 2.5842838|\n",
      "| 25497|    148|   2.0| 2.3792486|\n",
      "|184999|    148|   3.0| 3.2300584|\n",
      "|275563|    148|   2.0| 2.4938354|\n",
      "|279270|    148|   4.0| 2.8768306|\n",
      "|180406|    148|   3.0| 2.6834228|\n",
      "|170125|    148|   4.0| 3.3659523|\n",
      "|316509|    148|   3.0| 1.9560167|\n",
      "|316701|    148|   3.0| 2.9937894|\n",
      "|190375|    148|   3.0| 3.2058291|\n",
      "+------+-------+------+----------+\n",
      "only showing top 20 rows\n",
      "\n"
     ]
    },
    {
     "name": "stderr",
     "output_type": "stream",
     "text": [
      "                                                                                \r"
     ]
    }
   ],
   "source": [
    "als_predictions.show()"
   ]
  },
  {
   "cell_type": "code",
   "execution_count": 34,
   "metadata": {},
   "outputs": [],
   "source": [
    "user_matrix = als_model.userFactors.withColumnRenamed(\"features\", \"user_features\")\n",
    "item_matrix = als_model.itemFactors.withColumnRenamed(\"features\", \"item_features\")"
   ]
  },
  {
   "cell_type": "code",
   "execution_count": 35,
   "metadata": {},
   "outputs": [],
   "source": [
    "user_rows = user_matrix.collect()\n",
    "item_rows = item_matrix.collect()"
   ]
  },
  {
   "cell_type": "code",
   "execution_count": 36,
   "metadata": {},
   "outputs": [
    {
     "data": {
      "text/plain": [
       "243038"
      ]
     },
     "execution_count": 36,
     "metadata": {},
     "output_type": "execute_result"
    }
   ],
   "source": [
    "len(user_rows)"
   ]
  },
  {
   "cell_type": "code",
   "execution_count": 37,
   "metadata": {},
   "outputs": [],
   "source": [
    "user_dict = {}\n",
    "item_dict = {}\n",
    "\n",
    "# Iterate over each row in user_rows\n",
    "for row in user_rows:\n",
    "    # Extract the user ID and user features\n",
    "    user_id = row.id\n",
    "    user_features = row.user_features\n",
    "    # Store them in the dictionary\n",
    "    user_dict[user_id] = user_features\n",
    "\n",
    "for row in item_rows:\n",
    "    # Extract the user ID and user features\n",
    "    item_id = row.id\n",
    "    item_features = row.item_features\n",
    "    # Store them in the dictionary\n",
    "    item_dict[item_id] = item_features"
   ]
  },
  {
   "cell_type": "code",
   "execution_count": 38,
   "metadata": {},
   "outputs": [
    {
     "name": "stdout",
     "output_type": "stream",
     "text": [
      "<class 'list'>\n"
     ]
    }
   ],
   "source": [
    "print(type(user_dict[1]))"
   ]
  },
  {
   "cell_type": "code",
   "execution_count": 39,
   "metadata": {},
   "outputs": [],
   "source": [
    "# predict the RMSE loss for popularity based model\n",
    "\n",
    "# need to get <u_i, v_j> for each R_ij in the test dataset\n",
    "import builtins\n",
    "\n",
    "def dot(userId, movieId):\n",
    "    user_vector = user_dict[userId]\n",
    "    item_vector = item_dict[movieId]\n",
    "    dot_product = builtins.sum(u * v for u, v in zip(user_vector, item_vector))\n",
    "    \n",
    "    return dot_product"
   ]
  },
  {
   "cell_type": "code",
   "execution_count": 40,
   "metadata": {},
   "outputs": [
    {
     "name": "stderr",
     "output_type": "stream",
     "text": [
      "[Stage 229:============================================>          (32 + 8) / 40]\r"
     ]
    },
    {
     "name": "stdout",
     "output_type": "stream",
     "text": [
      "+------+-------+------+\n",
      "|userId|movieId|rating|\n",
      "+------+-------+------+\n",
      "|   148|    588|   3.0|\n",
      "|   148|    780|   3.0|\n",
      "|   148|     32|   2.0|\n",
      "|   148|    318|   3.0|\n",
      "|   148|    858|   5.0|\n",
      "|   148|    527|   1.0|\n",
      "|   148|     47|   1.0|\n",
      "|   463|    296|   4.5|\n",
      "|   463|      1|   4.0|\n",
      "|   463|    527|   4.5|\n",
      "|   463|    318|   5.0|\n",
      "|   463|   4993|   4.0|\n",
      "|   471|    527|   5.0|\n",
      "|   471|    480|   3.0|\n",
      "|   471|  79132|   5.0|\n",
      "|   496|     50|   3.0|\n",
      "|   496|    527|   4.0|\n",
      "|   833|   2959|   4.5|\n",
      "|   833|  58559|   4.5|\n",
      "|   833|     47|   4.5|\n",
      "+------+-------+------+\n",
      "only showing top 20 rows\n",
      "\n"
     ]
    },
    {
     "name": "stderr",
     "output_type": "stream",
     "text": [
      "                                                                                \r"
     ]
    }
   ],
   "source": [
    "test_data.show()"
   ]
  },
  {
   "cell_type": "code",
   "execution_count": 41,
   "metadata": {},
   "outputs": [
    {
     "name": "stderr",
     "output_type": "stream",
     "text": [
      "                                                                                \r"
     ]
    }
   ],
   "source": [
    "import math\n",
    "\n",
    "Loss = 0\n",
    "for row in test_data.collect():\n",
    "    userId = row.userId\n",
    "    movieId = row.movieId\n",
    "    actualRating = row.rating\n",
    "    # if a user has only watch one movie, it's very likely that their data is missing from the val/test set. This is not a spliting issue but a data scarcity issue.\n",
    "    if userId not in user_dict or movieId not in item_dict:\n",
    "        continue  # Return None to indicate that the dot product couldn't be calculated\n",
    "    predictedRating = dot(userId, movieId)\n",
    "    squaredError = (actualRating - predictedRating)**2\n",
    "    Loss += squaredError\n",
    "MSE = Loss/test_data.count()\n",
    "test_RMSE = math.sqrt(MSE)"
   ]
  },
  {
   "cell_type": "code",
   "execution_count": 42,
   "metadata": {},
   "outputs": [
    {
     "name": "stdout",
     "output_type": "stream",
     "text": [
      "popular RMSE on test data is:0.6198334305509302\n"
     ]
    }
   ],
   "source": [
    "print(f\"popular RMSE on test data is:{test_RMSE}\")"
   ]
  },
  {
   "cell_type": "code",
   "execution_count": 43,
   "metadata": {},
   "outputs": [
    {
     "name": "stderr",
     "output_type": "stream",
     "text": [
      "                                                                                \r"
     ]
    }
   ],
   "source": [
    "Loss = 0\n",
    "for row in validation_data.collect():\n",
    "    userId = row.userId\n",
    "    movieId = row.movieId\n",
    "    actualRating = row.rating\n",
    "    # if a user has only watch one movie, it's very likely that their data is missing from the val/test set. This is not a spliting issue but a data scarcity issue.\n",
    "    if userId not in user_dict or movieId not in item_dict:\n",
    "        continue  # Return None to indicate that the dot product couldn't be calculated\n",
    "    predictedRating = dot(userId, movieId)\n",
    "    squaredError = (actualRating - predictedRating)**2\n",
    "    Loss += squaredError\n",
    "MSE = Loss/validation_data.count()\n",
    "val_RMSE = math.sqrt(MSE)"
   ]
  },
  {
   "cell_type": "code",
   "execution_count": 44,
   "metadata": {},
   "outputs": [
    {
     "name": "stdout",
     "output_type": "stream",
     "text": [
      "validation RMSE is:0.6062775661060448\n"
     ]
    }
   ],
   "source": [
    "print(f\"validation RMSE is:{val_RMSE}\")"
   ]
  },
  {
   "cell_type": "markdown",
   "metadata": {},
   "source": [
    "## Bipartite Eval"
   ]
  },
  {
   "cell_type": "code",
   "execution_count": 45,
   "metadata": {},
   "outputs": [
    {
     "name": "stderr",
     "output_type": "stream",
     "text": [
      "                                                                                \r"
     ]
    }
   ],
   "source": [
    "predictions = sorted(als_model.transform(test_data).collect(), key=lambda r: r[0])"
   ]
  },
  {
   "cell_type": "code",
   "execution_count": 46,
   "metadata": {},
   "outputs": [
    {
     "data": {
      "text/plain": [
       "[Row(userId=1, movieId=4993, rating=4.0, prediction=4.245413303375244),\n",
       " Row(userId=1, movieId=1196, rating=3.5, prediction=3.963167428970337),\n",
       " Row(userId=1, movieId=260, rating=4.5, prediction=4.072638511657715),\n",
       " Row(userId=1, movieId=2028, rating=5.0, prediction=4.833735942840576),\n",
       " Row(userId=2, movieId=588, rating=4.0, prediction=4.0913801193237305),\n",
       " Row(userId=2, movieId=593, rating=5.0, prediction=4.707738399505615),\n",
       " Row(userId=2, movieId=1, rating=5.0, prediction=4.328616619110107),\n",
       " Row(userId=2, movieId=318, rating=5.0, prediction=5.000772953033447),\n",
       " Row(userId=2, movieId=110, rating=5.0, prediction=4.321163177490234),\n",
       " Row(userId=3, movieId=296, rating=5.0, prediction=4.7898173332214355)]"
      ]
     },
     "execution_count": 46,
     "metadata": {},
     "output_type": "execute_result"
    }
   ],
   "source": [
    "predictions[:10]"
   ]
  },
  {
   "cell_type": "code",
   "execution_count": 67,
   "metadata": {},
   "outputs": [
    {
     "name": "stderr",
     "output_type": "stream",
     "text": [
      "[Stage 1305:=================================================>   (94 + 5) / 100]\r"
     ]
    },
    {
     "name": "stdout",
     "output_type": "stream",
     "text": [
      "+------+--------------------+\n",
      "|userId|     recommendations|\n",
      "+------+--------------------+\n",
      "|   148|[{1197, 3.826783}...|\n",
      "|   463|[{1196, 4.5965676...|\n",
      "|   471|[{858, 4.9972434}...|\n",
      "|   496|[{457, 3.9838488}...|\n",
      "|   833|[{318, 4.5789957}...|\n",
      "|  1088|[{296, 4.2954226}...|\n",
      "|  1238|[{318, 4.116899},...|\n",
      "|  1342|[{58559, 4.053484...|\n",
      "|  1645|[{318, 4.9192066}...|\n",
      "|  1829|[{296, 4.8683267}...|\n",
      "|  1959|[{6539, 3.512825}...|\n",
      "|  2122|[{2959, 4.5689454...|\n",
      "|  2142|[{318, 4.5706997}...|\n",
      "|  2366|[{4993, 4.295436}...|\n",
      "|  2659|[{260, 4.6977572}...|\n",
      "|  2866|[{858, 4.95711}, ...|\n",
      "|  3175|[{318, 4.6478224}...|\n",
      "|  3749|[{58559, 4.078947...|\n",
      "|  3794|[{318, 4.9330587}...|\n",
      "|  3918|[{260, 3.811087},...|\n",
      "|  4101|[{480, 3.5143492}...|\n",
      "|  4900|[{590, 4.470261},...|\n",
      "|  5156|[{858, 3.452961},...|\n",
      "|  5518|[{1197, 4.237961}...|\n",
      "|  5803|[{296, 4.9420238}...|\n",
      "|  6336|[{2571, 4.553399}...|\n",
      "|  6357|[{318, 4.428268},...|\n",
      "|  6466|[{318, 5.091797},...|\n",
      "|  6620|[{364, 2.6377027}...|\n",
      "|  7240|[{2959, 3.4168527...|\n",
      "|  7253|[{1197, 4.357224}...|\n",
      "|  7340|[{2959, 4.7744207...|\n",
      "|  7754|[{110, 4.513451},...|\n",
      "|  7833|[{296, 4.8070216}...|\n",
      "|  7982|[{858, 5.0063553}...|\n",
      "|  7993|[{588, 4.374539},...|\n",
      "|  8389|[{110, 4.464528},...|\n",
      "|  9465|[{1196, 4.6936893...|\n",
      "|  9852|[{1197, 5.004162}...|\n",
      "| 10206|[{2959, 2.010892}...|\n",
      "| 10362|[{858, 5.0147696}...|\n",
      "| 10623|[{593, 4.927843},...|\n",
      "| 11033|[{7153, 4.858455}...|\n",
      "| 11141|[{7153, 3.943622}...|\n",
      "| 11317|[{593, 4.400674},...|\n",
      "| 11458|[{7153, 4.4452724...|\n",
      "| 11748|[{110, 2.9545608}...|\n",
      "| 11858|[{858, 4.7923656}...|\n",
      "| 12027|[{318, 4.557876},...|\n",
      "| 12046|[{110, 0.49242678...|\n",
      "| 12940|[{1721, 4.6978555...|\n",
      "| 13285|[{858, 5.2396135}...|\n",
      "| 13289|[{6539, 4.397714}...|\n",
      "| 14570|[{356, 4.6304636}...|\n",
      "| 15447|[{1, 4.7938805}, ...|\n",
      "| 15619|[{318, 2.9738612}...|\n",
      "| 15727|[{318, 5.2556124}...|\n",
      "| 15846|[{7153, 4.8949256...|\n",
      "| 15957|[{318, 4.520291},...|\n",
      "| 16386|[{1197, 4.7417517...|\n",
      "| 16574|[{2959, 5.0272303...|\n",
      "| 16861|[{1, 3.3932881}, ...|\n",
      "| 17420|[{780, 4.8124185}...|\n",
      "| 17753|[{2959, 3.7250102...|\n",
      "| 18024|[{858, 5.0363984}...|\n",
      "| 18498|[{1198, 4.940982}...|\n",
      "| 18654|[{4993, 4.570157}...|\n",
      "| 18866|[{318, 3.6075475}...|\n",
      "| 18911|[{6539, 2.9514093...|\n",
      "| 18979|[{480, 4.9146857}...|\n",
      "| 19204|[{1196, 4.9006124...|\n",
      "| 19553|[{2858, 4.8511815...|\n",
      "| 19984|[{1198, 4.8375864...|\n",
      "| 20135|[{1198, 4.0932264...|\n",
      "| 20497|[{318, 3.8697047}...|\n",
      "| 20683|[{318, 4.450697},...|\n",
      "| 20735|[{296, 4.8886113}...|\n",
      "| 20924|[{527, 5.1767993}...|\n",
      "| 21220|[{1196, 4.9530625...|\n",
      "| 22097|[{260, 0.9856621}...|\n",
      "| 22223|[{318, 5.008108},...|\n",
      "| 22373|[{2959, 4.998004}...|\n",
      "| 23015|[{260, 3.8735454}...|\n",
      "| 23336|[{1197, 3.9434195...|\n",
      "| 23364|[{2858, 2.9572306...|\n",
      "| 23571|[{2858, 4.950187}...|\n",
      "| 24347|[{50, 4.8466063},...|\n",
      "| 24663|[{590, 4.642707},...|\n",
      "| 25462|[{356, 4.964153},...|\n",
      "| 25517|[{1197, 4.739203}...|\n",
      "| 25591|[{4993, 4.3772635...|\n",
      "| 26623|[{318, 4.92285}, ...|\n",
      "| 26706|[{858, 5.004117},...|\n",
      "| 26755|[{2571, 4.754052}...|\n",
      "| 27484|[{356, 4.8028255}...|\n",
      "| 27760|[{7153, 4.2496414...|\n",
      "| 27974|[{318, 4.0808887}...|\n",
      "| 28088|[{593, 4.820503},...|\n",
      "| 28124|[{7153, 4.9481134...|\n",
      "| 28577|[{1198, 3.9749076...|\n",
      "| 28664|[{2959, 4.8068857...|\n",
      "| 29054|[{296, 4.8608265}...|\n",
      "| 29194|[{1198, 4.872376}...|\n",
      "| 29719|[{858, 4.2192564}...|\n",
      "| 29834|[{858, 4.5301194}...|\n",
      "| 29894|[{79132, 4.896035...|\n",
      "| 29993|[{2959, 4.3451915...|\n",
      "| 30654|[{1197, 4.851244}...|\n",
      "| 30903|[{527, 5.073477},...|\n",
      "| 31035|[{1198, 4.780489}...|\n",
      "| 31236|[{858, 5.0321813}...|\n",
      "| 31261|[{318, 4.4329143}...|\n",
      "| 31367|[{608, 5.1332293}...|\n",
      "| 31528|[{318, 5.2276587}...|\n",
      "| 31912|[{260, 2.8914132}...|\n",
      "| 32460|[{296, 4.9611034}...|\n",
      "| 32539|[{296, 4.4249425}...|\n",
      "| 32592|[{318, 5.0965543}...|\n",
      "| 32855|[{296, 4.8210354}...|\n",
      "| 33375|[{7153, 4.8952236...|\n",
      "| 33412|[{58559, 4.616573...|\n",
      "| 33569|[{608, 4.3933396}...|\n",
      "| 33722|[{1721, 5.752522}...|\n",
      "| 34234|[{2571, 4.9285493...|\n",
      "| 34239|[{296, 4.8147755}...|\n",
      "| 34759|[{527, 4.6375575}...|\n",
      "| 35071|[{589, 3.2057557}...|\n",
      "| 35351|[{527, 4.293813},...|\n",
      "| 35361|[{858, 4.781544},...|\n",
      "| 35689|[{1, 3.8781886}, ...|\n",
      "| 35694|[{318, 5.219758},...|\n",
      "| 35820|[{2959, 3.4512732...|\n",
      "| 35912|[{858, 3.9101179}...|\n",
      "| 35982|[{480, 3.9317484}...|\n",
      "| 36131|[{58559, 4.81339}...|\n",
      "| 36224|[{318, 5.0102634}...|\n",
      "| 36525|[{527, 4.780902},...|\n",
      "| 36538|[{296, 4.306222},...|\n",
      "| 37111|[{318, 4.954506},...|\n",
      "| 37146|[{7153, 4.555613}...|\n",
      "| 37251|[{527, 4.6466155}...|\n",
      "| 37263|[{260, 4.5498533}...|\n",
      "| 37307|[{260, 3.8362887}...|\n",
      "| 37489|[{1198, 4.242105}...|\n",
      "| 38153|[{4993, 4.774762}...|\n",
      "| 38311|[{858, 4.38064}, ...|\n",
      "| 38395|[{2959, 2.9582338...|\n",
      "| 38422|[{2028, 5.0609956...|\n",
      "| 38723|[{2959, 3.8644927...|\n",
      "| 39285|[{1270, 4.3061533...|\n",
      "| 39432|[{50, 4.4248724},...|\n",
      "| 40011|[{296, 4.8689632}...|\n",
      "| 40107|[{858, 4.593719},...|\n",
      "| 40335|[{79132, 4.862988...|\n",
      "| 40383|[{593, 4.6678967}...|\n",
      "| 41409|[{1196, 5.056789}...|\n",
      "| 41890|[{4993, 2.957692}...|\n",
      "| 41946|[{318, 4.9305143}...|\n",
      "| 41988|[{50, 4.784856}, ...|\n",
      "| 42373|[{858, 4.77804}, ...|\n",
      "| 42468|[{4993, 4.39992},...|\n",
      "| 42635|[{593, 4.7480454}...|\n",
      "| 42834|[{608, 4.674784},...|\n",
      "| 43103|[{593, 4.3978868}...|\n",
      "| 43302|[{780, 4.9091806}...|\n",
      "| 43688|[{2571, 4.8529134...|\n",
      "| 43714|[{318, 5.1553507}...|\n",
      "| 43852|[{1197, 4.9613895...|\n",
      "| 44022|[{260, 4.891037},...|\n",
      "| 44437|[{1, 4.8075747}, ...|\n",
      "| 44906|[{260, 3.4589212}...|\n",
      "| 45011|[{858, 3.8693905}...|\n",
      "| 45307|[{1197, 4.249213}...|\n",
      "| 45341|[{858, 4.871431},...|\n",
      "| 45615|[{2028, 4.8244643...|\n",
      "| 46266|[{79132, 4.728966...|\n",
      "| 46521|[{356, 3.8934045}...|\n",
      "| 46943|[{79132, 4.672942...|\n",
      "| 46952|[{590, 4.52591}, ...|\n",
      "| 47217|[{2959, 4.5185595...|\n",
      "| 47283|[{1196, 5.1672497...|\n",
      "| 47501|[{1198, 5.287355}...|\n",
      "| 47711|[{1, 4.7978954}, ...|\n",
      "| 48254|[{2959, 4.115381}...|\n",
      "| 48398|[{50, 4.096081}, ...|\n",
      "| 48510|[{2571, 4.8555894...|\n",
      "| 48875|[{58559, 4.870403...|\n",
      "| 49331|[{858, 4.6762447}...|\n",
      "| 49717|[{527, 5.3155413}...|\n",
      "| 49855|[{58559, 5.062186...|\n",
      "| 50223|[{318, 4.954506},...|\n",
      "| 50353|[{318, 4.6284094}...|\n",
      "| 51123|[{58559, 4.571861...|\n",
      "| 51393|[{2028, 4.6393347...|\n",
      "| 51415|[{260, 4.015832},...|\n",
      "| 51607|[{593, 3.9422746}...|\n",
      "| 52697|[{260, 4.7529197}...|\n",
      "| 53565|[{2959, 4.525072}...|\n",
      "| 53634|[{527, 3.9447305}...|\n",
      "| 53963|[{318, 4.876779},...|\n",
      "+------+--------------------+\n",
      "only showing top 200 rows\n",
      "\n"
     ]
    },
    {
     "name": "stderr",
     "output_type": "stream",
     "text": [
      "                                                                                \r"
     ]
    }
   ],
   "source": [
    "recommendations = als_model.recommendForAllUsers(numItems=100)\n",
    "recommendations.show(200)"
   ]
  },
  {
   "cell_type": "code",
   "execution_count": 72,
   "metadata": {},
   "outputs": [
    {
     "name": "stderr",
     "output_type": "stream",
     "text": [
      "[Stage 1417:==================================================>  (96 + 4) / 100]\r"
     ]
    },
    {
     "name": "stdout",
     "output_type": "stream",
     "text": [
      "+------+--------------------+\n",
      "|userId|             movieId|\n",
      "+------+--------------------+\n",
      "|   148|[1197, 2571, 5855...|\n",
      "|   463|[1196, 260, 58559...|\n",
      "|   471|[858, 58559, 296,...|\n",
      "|   496|[457, 318, 1197, ...|\n",
      "|   833|[318, 4993, 7153,...|\n",
      "|  1088|[296, 2959, 858, ...|\n",
      "|  1238|[318, 593, 858, 3...|\n",
      "|  1342|[58559, 1210, 257...|\n",
      "|  1645|[318, 58559, 7153...|\n",
      "|  1829|[296, 608, 4226, ...|\n",
      "|  1959|[6539, 79132, 276...|\n",
      "|  2122|[2959, 296, 2571,...|\n",
      "|  2142|[318, 58559, 2959...|\n",
      "|  2366|[4993, 7153, 5952...|\n",
      "|  2659|[260, 1196, 1210,...|\n",
      "|  2866|[858, 318, 50, 29...|\n",
      "|  3175|[318, 608, 593, 5...|\n",
      "|  3749|[58559, 2571, 422...|\n",
      "|  3794|[318, 2571, 296, ...|\n",
      "|  3918|[260, 1196, 1198,...|\n",
      "+------+--------------------+\n",
      "only showing top 20 rows\n",
      "\n"
     ]
    },
    {
     "name": "stderr",
     "output_type": "stream",
     "text": [
      "                                                                                \r"
     ]
    }
   ],
   "source": [
    "cleaned_df = recommendations.select('userId', explode('recommendations').alias('recommendation')) \\\n",
    "               .select('userId', 'recommendation.movieId').groupBy('userId').agg(collect_list('movieId').alias('movieId'))\n",
    "cleaned_df.show()"
   ]
  },
  {
   "cell_type": "code",
   "execution_count": 73,
   "metadata": {},
   "outputs": [
    {
     "name": "stderr",
     "output_type": "stream",
     "text": [
      "                                                                                \r"
     ]
    },
    {
     "data": {
      "text/plain": [
       "[Row(movieId=[1197, 2571, 58559, 1196, 260, 1210, 1198, 50, 79132, 4226, 296, 1, 2858, 589, 3578, 1704, 32, 4306, 608, 858, 2959, 2028, 6539, 4993, 150, 780, 7153, 5952, 110, 527, 592, 318, 1270, 2762, 380, 457, 588, 47, 480, 364, 593, 356, 1721, 590])]"
      ]
     },
     "execution_count": 73,
     "metadata": {},
     "output_type": "execute_result"
    }
   ],
   "source": [
    "cleaned_df.where(cleaned_df.userId == 148).select(\"movieId\").collect()"
   ]
  },
  {
   "cell_type": "code",
   "execution_count": 74,
   "metadata": {},
   "outputs": [
    {
     "name": "stderr",
     "output_type": "stream",
     "text": [
      "[Stage 1450:============================================>      (173 + 27) / 200]\r"
     ]
    },
    {
     "name": "stdout",
     "output_type": "stream",
     "text": [
      "+------+--------------------+\n",
      "|userId|               items|\n",
      "+------+--------------------+\n",
      "|   148|[2858, 260, 457, ...|\n",
      "|   463|[1, 318, 2959, 85...|\n",
      "|   471|  [2959, 79132, 260]|\n",
      "|   496|          [110, 150]|\n",
      "|   833|[1196, 2959, 110,...|\n",
      "|  1088|[592, 364, 858, 1...|\n",
      "|  1238|           [380, 47]|\n",
      "|  1342|[58559, 1721, 595...|\n",
      "|  1645|[1196, 1, 2959, 4...|\n",
      "|  1829|     [457, 296, 480]|\n",
      "|  1959|[58559, 6539, 499...|\n",
      "|  2122|          [47, 2571]|\n",
      "|  2142|[592, 589, 457, 1...|\n",
      "|  2366|[2028, 2959, 110,...|\n",
      "|  2659|         [2959, 260]|\n",
      "|  2866|    [527, 2959, 593]|\n",
      "|  3175|    [2959, 110, 588]|\n",
      "|  3749|[593, 364, 858, 1...|\n",
      "|  3794|        [2571, 2959]|\n",
      "|  3918|[589, 1198, 1196,...|\n",
      "+------+--------------------+\n",
      "only showing top 20 rows\n",
      "\n"
     ]
    },
    {
     "name": "stderr",
     "output_type": "stream",
     "text": [
      "                                                                                \r"
     ]
    }
   ],
   "source": [
    "from pyspark.sql.functions import collect_list\n",
    "\n",
    "# Group by userId and collect movieIds into a list\n",
    "ground_truth_train = train_data.groupBy(\"userId\").agg(collect_list(\"movieId\").alias(\"items\"))\n",
    "ground_truth_validation = validation_data.groupBy(\"userId\").agg(collect_list(\"movieId\").alias(\"items\"))\n",
    "ground_truth_test = test_data.groupBy(\"userId\").agg(collect_list(\"movieId\").alias(\"items\"))\n",
    "\n",
    "# Show the ground truth data\n",
    "ground_truth_test.show()"
   ]
  },
  {
   "cell_type": "code",
   "execution_count": 50,
   "metadata": {},
   "outputs": [
    {
     "name": "stderr",
     "output_type": "stream",
     "text": [
      "                                                                                \r"
     ]
    },
    {
     "data": {
      "text/plain": [
       "[Row(items=[592, 527, 1197, 364, 608, 780, 1270, 1196, 2858, 356, 480, 318, 50, 150, 2028, 32, 296, 1198, 858, 590, 1704, 593, 1])]"
      ]
     },
     "execution_count": 50,
     "metadata": {},
     "output_type": "execute_result"
    }
   ],
   "source": [
    "ground_truth_train.where(ground_truth_train.userId == 148).select(\"items\").collect()"
   ]
  },
  {
   "cell_type": "code",
   "execution_count": 77,
   "metadata": {},
   "outputs": [
    {
     "name": "stderr",
     "output_type": "stream",
     "text": [
      "[Stage 1487:===================================================>(197 + 3) / 200]\r"
     ]
    },
    {
     "name": "stdout",
     "output_type": "stream",
     "text": [
      "+--------------------+--------------------+\n",
      "|             movieId|               items|\n",
      "+--------------------+--------------------+\n",
      "|[1197, 2571, 5855...|   [527, 2028, 2762]|\n",
      "|[1196, 260, 58559...|         [858, 2858]|\n",
      "|[858, 58559, 296,...|              [1270]|\n",
      "|[457, 318, 1197, ...|               [592]|\n",
      "|[318, 4993, 7153,...|              [2571]|\n",
      "|[296, 2959, 858, ...|[1704, 1197, 457,...|\n",
      "|[58559, 1210, 257...|              [2959]|\n",
      "|[318, 58559, 7153...|        [110, 58559]|\n",
      "|[6539, 79132, 276...|              [1198]|\n",
      "|[318, 58559, 2959...|   [608, 1721, 2959]|\n",
      "|[4993, 7153, 5952...|              [2571]|\n",
      "|[318, 608, 593, 5...|               [380]|\n",
      "|[58559, 2571, 422...|  [1197, 7153, 2571]|\n",
      "|[260, 1196, 1198,...|         [2959, 296]|\n",
      "|[1197, 296, 608, ...|   [4226, 2762, 858]|\n",
      "|[296, 2571, 318, ...|             [79132]|\n",
      "|[2571, 1196, 260,...|                [47]|\n",
      "|[318, 7153, 4993,...|          [364, 110]|\n",
      "|[364, 4993, 588, ...|             [79132]|\n",
      "|[2959, 58559, 257...|         [1210, 593]|\n",
      "+--------------------+--------------------+\n",
      "only showing top 20 rows\n",
      "\n"
     ]
    },
    {
     "name": "stderr",
     "output_type": "stream",
     "text": [
      "                                                                                \r"
     ]
    }
   ],
   "source": [
    "sdf = predictionAndLabels_validation = cleaned_df.join(ground_truth_validation, cleaned_df.userId == ground_truth_validation.userId, \"inner\") \\\n",
    "     .select(cleaned_df.movieId, ground_truth_validation.items)\n",
    "sdf.show()"
   ]
  },
  {
   "cell_type": "code",
   "execution_count": 79,
   "metadata": {},
   "outputs": [],
   "source": [
    "predictionAndLabels_validation = cleaned_df.join(ground_truth_validation, cleaned_df.userId == ground_truth_validation.userId, \"inner\") \\\n",
    "     .select(cleaned_df.movieId, ground_truth_validation.items) \\\n",
    "     .rdd\n",
    "\n",
    "predictionAndLabels_test =  cleaned_df.join(ground_truth_test, cleaned_df.userId == ground_truth_test.userId, \"inner\") \\\n",
    "     .select(cleaned_df.movieId, ground_truth_test.items) \\\n",
    "     .rdd\n",
    "\n",
    "predictionAndLabels_train =  cleaned_df.join(ground_truth_train, cleaned_df.userId == ground_truth_train.userId, \"inner\") \\\n",
    "     .select(cleaned_df.movieId, ground_truth_train.items) \\\n",
    "     .rdd"
   ]
  },
  {
   "cell_type": "code",
   "execution_count": 52,
   "metadata": {},
   "outputs": [
    {
     "name": "stderr",
     "output_type": "stream",
     "text": [
      "[Stage 413:====================================================>(197 + 3) / 200]\r"
     ]
    },
    {
     "name": "stdout",
     "output_type": "stream",
     "text": [
      "Mean Average Precision (MAP) at 100 for train set: 0.0\n"
     ]
    },
    {
     "name": "stderr",
     "output_type": "stream",
     "text": [
      "                                                                                \r"
     ]
    }
   ],
   "source": [
    "# from pyspark.mllib.evaluation import RankingMetrics\n",
    "\n",
    "# # Create a RankingMetrics object\n",
    "# metrics_train = RankingMetrics(predictionAndLabels_train)\n",
    "\n",
    "# # Calculate Mean Average Precision (MAP) for validation and test sets\n",
    "# map_train = metrics_train.meanAveragePrecisionAt(100)\n",
    "\n",
    "# print(\"Mean Average Precision (MAP) at 100 for train set:\", map_train)"
   ]
  },
  {
   "cell_type": "code",
   "execution_count": 80,
   "metadata": {},
   "outputs": [
    {
     "name": "stderr",
     "output_type": "stream",
     "text": [
      "[Stage 1643:========================================>          (160 + 38) / 200]]\r"
     ]
    },
    {
     "name": "stdout",
     "output_type": "stream",
     "text": [
      "Mean Average Precision (MAP) for validation set: 0.15688806723860668\n",
      "Mean Average Precision (MAP) for test set: 0.29139083007708294\n"
     ]
    },
    {
     "name": "stderr",
     "output_type": "stream",
     "text": [
      "                                                                                \r"
     ]
    }
   ],
   "source": [
    "from pyspark.mllib.evaluation import RankingMetrics\n",
    "\n",
    "# Create a RankingMetrics object\n",
    "metrics_validation = RankingMetrics(predictionAndLabels_validation)\n",
    "metrics_test = RankingMetrics(predictionAndLabels_test)\n",
    "\n",
    "# Calculate Mean Average Precision (MAP) for validation and test sets\n",
    "map_validation = metrics_validation.meanAveragePrecisionAt(100)\n",
    "map_test = metrics_test.meanAveragePrecisionAt(100)\n",
    "\n",
    "# map_validation = metrics_validation.ndcgAt(100)\n",
    "# map_test = metrics_test.ndcgAt(100)\n",
    "\n",
    "\n",
    "print(\"Mean Average Precision (MAP) for validation set:\", map_validation)\n",
    "print(\"Mean Average Precision (MAP) for test set:\", map_test)"
   ]
  },
  {
   "cell_type": "code",
   "execution_count": 82,
   "metadata": {},
   "outputs": [
    {
     "name": "stderr",
     "output_type": "stream",
     "text": [
      "[Stage 1647:===================>                                 (15 + 25) / 40]\r"
     ]
    },
    {
     "name": "stdout",
     "output_type": "stream",
     "text": [
      "[318, 356, 296, 2571, 593, 260, 2959, 527, 1196, 4993, 858, 50, 7153, 1198, 480, 1210, 110, 5952, 1, 2858, 589, 58559, 79132, 47, 1270, 2028, 608, 457, 150, 2762, 3578, 32, 4226, 1704, 4306, 780, 1197, 1193, 588, 364, 1221, 590, 1136, 541, 1291, 6539, 592, 1240, 1214, 7361, 1265, 1036, 4973, 1213, 4886, 1089, 380, 6377, 6874, 1580, 293, 1682, 1721, 377, 4995, 33794, 2329, 60069, 109487, 595, 3147, 8961, 1097, 648, 1258, 4963, 1200, 1527, 111, 5989, 68954, 165, 1206, 5418, 48516, 1732, 3793, 5618, 5445, 733, 2997, 2716, 924, 778, 7438, 59315, 912, 68157, 1617, 4878]\n"
     ]
    },
    {
     "name": "stderr",
     "output_type": "stream",
     "text": [
      "                                                                                \r"
     ]
    }
   ],
   "source": [
    "popular100Ids = popular_100.select('movieId')\n",
    "\n",
    "# Collect the movieIds into a list\n",
    "popular100Ids = [row['movieId'] for row in popular100Ids.collect()]\n",
    "\n",
    "# Display the list of movieIds\n",
    "print(popular100Ids)\n"
   ]
  },
  {
   "cell_type": "code",
   "execution_count": 124,
   "metadata": {},
   "outputs": [],
   "source": [
    "movie_ids_to_replicate = [[[318, 356, 296, 2858, 260, 457]]] * 271351  # Adjust 20 to match the length of ground_truth DataFrame\n",
    "movie_ids_replicated = spark.createDataFrame(movie_ids_to_replicate, [\"items\"])"
   ]
  },
  {
   "cell_type": "code",
   "execution_count": 154,
   "metadata": {},
   "outputs": [
    {
     "name": "stderr",
     "output_type": "stream",
     "text": [
      "                                                                                \r"
     ]
    }
   ],
   "source": [
    "user_ids_list = [row['userId'] for row in ground_truth_validation.select('userId').collect()]"
   ]
  },
  {
   "cell_type": "code",
   "execution_count": 155,
   "metadata": {},
   "outputs": [
    {
     "data": {
      "text/plain": [
       "[148,\n",
       " 463,\n",
       " 471,\n",
       " 496,\n",
       " 833,\n",
       " 1088,\n",
       " 1342,\n",
       " 1645,\n",
       " 1959,\n",
       " 2142,\n",
       " 2366,\n",
       " 3175,\n",
       " 3749,\n",
       " 3918,\n",
       " 5518,\n",
       " 5803,\n",
       " 6336,\n",
       " 6466,\n",
       " 6620,\n",
       " 7240,\n",
       " 7253,\n",
       " 7340,\n",
       " 7754,\n",
       " 7982,\n",
       " 7993,\n",
       " 8389,\n",
       " 9465,\n",
       " 9852,\n",
       " 10362,\n",
       " 11033,\n",
       " 11317,\n",
       " 11458,\n",
       " 12027,\n",
       " 13285,\n",
       " 15727,\n",
       " 15957,\n",
       " 17753,\n",
       " 18024,\n",
       " 18498,\n",
       " 18654,\n",
       " 19984,\n",
       " 20135,\n",
       " 20683,\n",
       " 20924,\n",
       " 21220,\n",
       " 24347,\n",
       " 25462,\n",
       " 25591,\n",
       " 26755,\n",
       " 27760,\n",
       " 28088,\n",
       " 28577,\n",
       " 28664,\n",
       " 29054,\n",
       " 29194,\n",
       " 29894,\n",
       " 30903,\n",
       " 31035,\n",
       " 31236,\n",
       " 31261,\n",
       " 31367,\n",
       " 31528,\n",
       " 32460,\n",
       " 32539,\n",
       " 32592,\n",
       " 32855,\n",
       " 33375,\n",
       " 33412,\n",
       " 34239,\n",
       " 34759,\n",
       " 35351,\n",
       " 35361,\n",
       " 36525,\n",
       " 36538,\n",
       " 37146,\n",
       " 37251,\n",
       " 37489,\n",
       " 38153,\n",
       " 38311,\n",
       " 38422,\n",
       " 39285,\n",
       " 39432,\n",
       " 40011,\n",
       " 40107,\n",
       " 40383,\n",
       " 42834,\n",
       " 43103,\n",
       " 43714,\n",
       " 43852,\n",
       " 45307,\n",
       " 46266,\n",
       " 46943,\n",
       " 46952,\n",
       " 47217,\n",
       " 47283,\n",
       " 48254,\n",
       " 48398,\n",
       " 49331,\n",
       " 49717,\n",
       " 49855,\n",
       " 50353,\n",
       " 51123,\n",
       " 53565,\n",
       " 53963,\n",
       " 55155,\n",
       " 55869,\n",
       " 56054,\n",
       " 56110,\n",
       " 57370,\n",
       " 57380,\n",
       " 57693,\n",
       " 57984,\n",
       " 58797,\n",
       " 58835,\n",
       " 59384,\n",
       " 59990,\n",
       " 61051,\n",
       " 62680,\n",
       " 62985,\n",
       " 63271,\n",
       " 63574,\n",
       " 63645,\n",
       " 63964,\n",
       " 64628,\n",
       " 66010,\n",
       " 67294,\n",
       " 67753,\n",
       " 67861,\n",
       " 68090,\n",
       " 68135,\n",
       " 68579,\n",
       " 69042,\n",
       " 69048,\n",
       " 69454,\n",
       " 69478,\n",
       " 70355,\n",
       " 72702,\n",
       " 73683,\n",
       " 74852,\n",
       " 74904,\n",
       " 75294,\n",
       " 75705,\n",
       " 76493,\n",
       " 76756,\n",
       " 76885,\n",
       " 77422,\n",
       " 78064,\n",
       " 78113,\n",
       " 78400,\n",
       " 79220,\n",
       " 80332,\n",
       " 80451,\n",
       " 82672,\n",
       " 82730,\n",
       " 83242,\n",
       " 83250,\n",
       " 83693,\n",
       " 84812,\n",
       " 85100,\n",
       " 85253,\n",
       " 85321,\n",
       " 85349,\n",
       " 85749,\n",
       " 86082,\n",
       " 87120,\n",
       " 87338,\n",
       " 87656,\n",
       " 87724,\n",
       " 87905,\n",
       " 88599,\n",
       " 88666,\n",
       " 89863,\n",
       " 89878,\n",
       " 90461,\n",
       " 90550,\n",
       " 91446,\n",
       " 91785,\n",
       " 92080,\n",
       " 92235,\n",
       " 93407,\n",
       " 93948,\n",
       " 94695,\n",
       " 94851,\n",
       " 95080,\n",
       " 96044,\n",
       " 97004,\n",
       " 97092,\n",
       " 97413,\n",
       " 97419,\n",
       " 99239,\n",
       " 99817,\n",
       " 100274,\n",
       " 100446,\n",
       " 100800,\n",
       " 100986,\n",
       " 101475,\n",
       " 102524,\n",
       " 102793,\n",
       " 103902,\n",
       " 104880,\n",
       " 105665,\n",
       " 105796,\n",
       " 106724,\n",
       " 106783,\n",
       " 108560,\n",
       " 108806,\n",
       " 109068,\n",
       " 109172,\n",
       " 109613,\n",
       " 109909,\n",
       " 111300,\n",
       " 111381,\n",
       " 112971,\n",
       " 114206,\n",
       " 115602,\n",
       " 116312,\n",
       " 117500,\n",
       " 117987,\n",
       " 118989,\n",
       " 120706,\n",
       " 122128,\n",
       " 122484,\n",
       " 124647,\n",
       " 125502,\n",
       " 126373,\n",
       " 127109,\n",
       " 127147,\n",
       " 127444,\n",
       " 128367,\n",
       " 128389,\n",
       " 129345,\n",
       " 129791,\n",
       " 130544,\n",
       " 130557,\n",
       " 131213,\n",
       " 131931,\n",
       " 132171,\n",
       " 132318,\n",
       " 133524,\n",
       " 133590,\n",
       " 133730,\n",
       " 133948,\n",
       " 134138,\n",
       " 135423,\n",
       " 135533,\n",
       " 135965,\n",
       " 135976,\n",
       " 136631,\n",
       " 136924,\n",
       " 137193,\n",
       " 137377,\n",
       " 138920,\n",
       " 139024,\n",
       " 139128,\n",
       " 139335,\n",
       " 140021,\n",
       " 141299,\n",
       " 141737,\n",
       " 141952,\n",
       " 142084,\n",
       " 143032,\n",
       " 143737,\n",
       " 143778,\n",
       " 144522,\n",
       " 144664,\n",
       " 144685,\n",
       " 145011,\n",
       " 145210,\n",
       " 146036,\n",
       " 146224,\n",
       " 147280,\n",
       " 147711,\n",
       " 148267,\n",
       " 149177,\n",
       " 149465,\n",
       " 149761,\n",
       " 149785,\n",
       " 150087,\n",
       " 150300,\n",
       " 150383,\n",
       " 150822,\n",
       " 151960,\n",
       " 152004,\n",
       " 153409,\n",
       " 154033,\n",
       " 154464,\n",
       " 155251,\n",
       " 155255,\n",
       " 155350,\n",
       " 155628,\n",
       " 156017,\n",
       " 156197,\n",
       " 156296,\n",
       " 156363,\n",
       " 156365,\n",
       " 156645,\n",
       " 156941,\n",
       " 157426,\n",
       " 157793,\n",
       " 158593,\n",
       " 158803,\n",
       " 160563,\n",
       " 160820,\n",
       " 161295,\n",
       " 162105,\n",
       " 162296,\n",
       " 162321,\n",
       " 162473,\n",
       " 165310,\n",
       " 166624,\n",
       " 167071,\n",
       " 167621,\n",
       " 169588,\n",
       " 170542,\n",
       " 170948,\n",
       " 171094,\n",
       " 171452,\n",
       " 171642,\n",
       " 172319,\n",
       " 173059,\n",
       " 173508,\n",
       " 173914,\n",
       " 175201,\n",
       " 175233,\n",
       " 175513,\n",
       " 175738,\n",
       " 176152,\n",
       " 176213,\n",
       " 177496,\n",
       " 178564,\n",
       " 179217,\n",
       " 179268,\n",
       " 179749,\n",
       " 180753,\n",
       " 180817,\n",
       " 180910,\n",
       " 182678,\n",
       " 182945,\n",
       " 183275,\n",
       " 184096,\n",
       " 186039,\n",
       " 187027,\n",
       " 187525,\n",
       " 187578,\n",
       " 187647,\n",
       " 188264,\n",
       " 188834,\n",
       " 188873,\n",
       " 189310,\n",
       " 189903,\n",
       " 190174,\n",
       " 190227,\n",
       " 191355,\n",
       " 191933,\n",
       " 192545,\n",
       " 193137,\n",
       " 193166,\n",
       " 194753,\n",
       " 195291,\n",
       " 195413,\n",
       " 195577,\n",
       " 196013,\n",
       " 196615,\n",
       " 197148,\n",
       " 197588,\n",
       " 197890,\n",
       " 197953,\n",
       " 198218,\n",
       " 198573,\n",
       " 198800,\n",
       " 198909,\n",
       " 199976,\n",
       " 200379,\n",
       " 200625,\n",
       " 200878,\n",
       " 201148,\n",
       " 201694,\n",
       " 202641,\n",
       " 202908,\n",
       " 203894,\n",
       " 204529,\n",
       " 204908,\n",
       " 205392,\n",
       " 206351,\n",
       " 206378,\n",
       " 206719,\n",
       " 206817,\n",
       " 207103,\n",
       " 208187,\n",
       " 209955,\n",
       " 210661,\n",
       " 210688,\n",
       " 210736,\n",
       " 210744,\n",
       " 211048,\n",
       " 212297,\n",
       " 212727,\n",
       " 213021,\n",
       " 213312,\n",
       " 213630,\n",
       " 213647,\n",
       " 214739,\n",
       " 215309,\n",
       " 215820,\n",
       " 215828,\n",
       " 215987,\n",
       " 216014,\n",
       " 216627,\n",
       " 216847,\n",
       " 217657,\n",
       " 218419,\n",
       " 219352,\n",
       " 219523,\n",
       " 219558,\n",
       " 220674,\n",
       " 221743,\n",
       " 222048,\n",
       " 222543,\n",
       " 222605,\n",
       " 222710,\n",
       " 222925,\n",
       " 225262,\n",
       " 225277,\n",
       " 225333,\n",
       " 225430,\n",
       " 225877,\n",
       " 226193,\n",
       " 226615,\n",
       " 227038,\n",
       " 227470,\n",
       " 227501,\n",
       " 227648,\n",
       " 228622,\n",
       " 228725,\n",
       " 229566,\n",
       " 230443,\n",
       " 230449,\n",
       " 231236,\n",
       " 231287,\n",
       " 232043,\n",
       " 232473,\n",
       " 232643,\n",
       " 233044,\n",
       " 233799,\n",
       " 234046,\n",
       " 234080,\n",
       " 234179,\n",
       " 234320,\n",
       " 234778,\n",
       " 234892,\n",
       " 234973,\n",
       " 234983,\n",
       " 235408,\n",
       " 235447,\n",
       " 236314,\n",
       " 236532,\n",
       " 236636,\n",
       " 236893,\n",
       " 237019,\n",
       " 237337,\n",
       " 237504,\n",
       " 238193,\n",
       " 238308,\n",
       " 239148,\n",
       " 241012,\n",
       " 242249,\n",
       " 242387,\n",
       " 242832,\n",
       " 243191,\n",
       " 243197,\n",
       " 243356,\n",
       " 243440,\n",
       " 244430,\n",
       " 244597,\n",
       " 244629,\n",
       " 245074,\n",
       " 246115,\n",
       " 246326,\n",
       " 247014,\n",
       " 247653,\n",
       " 248089,\n",
       " 249022,\n",
       " 249376,\n",
       " 249443,\n",
       " 250934,\n",
       " 251353,\n",
       " 251742,\n",
       " 252036,\n",
       " 253457,\n",
       " 253769,\n",
       " 253846,\n",
       " 254312,\n",
       " 254564,\n",
       " 255040,\n",
       " 255394,\n",
       " 255806,\n",
       " 255862,\n",
       " 255890,\n",
       " 256761,\n",
       " 256866,\n",
       " 257891,\n",
       " 258032,\n",
       " 258487,\n",
       " 258865,\n",
       " 260726,\n",
       " 260819,\n",
       " 261768,\n",
       " 262106,\n",
       " 262183,\n",
       " 262397,\n",
       " 263013,\n",
       " 263031,\n",
       " 263419,\n",
       " 263750,\n",
       " 265189,\n",
       " 265363,\n",
       " 265769,\n",
       " 266215,\n",
       " 267740,\n",
       " 268695,\n",
       " 269295,\n",
       " 269460,\n",
       " 270200,\n",
       " 271086,\n",
       " 271537,\n",
       " 271557,\n",
       " 271694,\n",
       " 272094,\n",
       " 272391,\n",
       " 273285,\n",
       " 274468,\n",
       " 274848,\n",
       " 275204,\n",
       " 275400,\n",
       " 276028,\n",
       " 276338,\n",
       " 276652,\n",
       " 277366,\n",
       " 277404,\n",
       " 278125,\n",
       " 278515,\n",
       " 279120,\n",
       " 279177,\n",
       " 279897,\n",
       " 279969,\n",
       " 280218,\n",
       " 280385,\n",
       " 280602,\n",
       " 281718,\n",
       " 281740,\n",
       " 282054,\n",
       " 282396,\n",
       " 283456,\n",
       " 283975,\n",
       " 283980,\n",
       " 284106,\n",
       " 284346,\n",
       " 285602,\n",
       " 286108,\n",
       " 286323,\n",
       " 286670,\n",
       " 286699,\n",
       " 287536,\n",
       " 287568,\n",
       " 287874,\n",
       " 287992,\n",
       " 288473,\n",
       " 289175,\n",
       " 289541,\n",
       " 290513,\n",
       " 291501,\n",
       " 291650,\n",
       " 291995,\n",
       " 292080,\n",
       " 292083,\n",
       " 292379,\n",
       " 292608,\n",
       " 292708,\n",
       " 293418,\n",
       " 293947,\n",
       " 294870,\n",
       " 295286,\n",
       " 296288,\n",
       " 296688,\n",
       " 296738,\n",
       " 296807,\n",
       " 296865,\n",
       " 298705,\n",
       " 298862,\n",
       " 300522,\n",
       " 300601,\n",
       " 300825,\n",
       " 302124,\n",
       " 302344,\n",
       " 302825,\n",
       " 303632,\n",
       " 304030,\n",
       " 304681,\n",
       " 304915,\n",
       " 306072,\n",
       " 306504,\n",
       " 307303,\n",
       " 307537,\n",
       " 308075,\n",
       " 308930,\n",
       " 309597,\n",
       " 310188,\n",
       " 310296,\n",
       " 310514,\n",
       " 310825,\n",
       " 310950,\n",
       " 311014,\n",
       " 311192,\n",
       " 311703,\n",
       " 311710,\n",
       " 311716,\n",
       " 311803,\n",
       " 313211,\n",
       " 314148,\n",
       " 314572,\n",
       " 316184,\n",
       " 316662,\n",
       " 317340,\n",
       " 317828,\n",
       " 318585,\n",
       " 318858,\n",
       " 318927,\n",
       " 319750,\n",
       " 319884,\n",
       " 319929,\n",
       " 320508,\n",
       " 321932,\n",
       " 321969,\n",
       " 322355,\n",
       " 322700,\n",
       " 322881,\n",
       " 323084,\n",
       " 323181,\n",
       " 323250,\n",
       " 323599,\n",
       " 324192,\n",
       " 325102,\n",
       " 325471,\n",
       " 325894,\n",
       " 327076,\n",
       " 327139,\n",
       " 327162,\n",
       " 327294,\n",
       " 327733,\n",
       " 328279,\n",
       " 328989,\n",
       " 330720,\n",
       " 330787,\n",
       " 392,\n",
       " 737,\n",
       " 897,\n",
       " 1084,\n",
       " 1127,\n",
       " 1395,\n",
       " 1460,\n",
       " 1483,\n",
       " 1721,\n",
       " 1896,\n",
       " 2235,\n",
       " 2811,\n",
       " 2999,\n",
       " 3226,\n",
       " 4158,\n",
       " 4190,\n",
       " 4219,\n",
       " 6623,\n",
       " 6773,\n",
       " 7417,\n",
       " 8105,\n",
       " 8803,\n",
       " 8928,\n",
       " 9564,\n",
       " 10462,\n",
       " 11316,\n",
       " 12367,\n",
       " 12471,\n",
       " 12611,\n",
       " 12626,\n",
       " 14075,\n",
       " 14148,\n",
       " 14514,\n",
       " 14536,\n",
       " 15100,\n",
       " 15967,\n",
       " 16916,\n",
       " 17607,\n",
       " 17688,\n",
       " 18201,\n",
       " 18218,\n",
       " 18282,\n",
       " 18956,\n",
       " 19200,\n",
       " 19499,\n",
       " 19614,\n",
       " 19873,\n",
       " 19886,\n",
       " 19962,\n",
       " 21116,\n",
       " 22004,\n",
       " 22021,\n",
       " 23455,\n",
       " 23607,\n",
       " 23727,\n",
       " 26200,\n",
       " 26936,\n",
       " 27261,\n",
       " 29827,\n",
       " 29950,\n",
       " 30183,\n",
       " 30988,\n",
       " 31680,\n",
       " 31928,\n",
       " 32891,\n",
       " 34591,\n",
       " 35800,\n",
       " 36655,\n",
       " 36706,\n",
       " 36982,\n",
       " 37195,\n",
       " 37297,\n",
       " 37482,\n",
       " 37668,\n",
       " 38806,\n",
       " 39069,\n",
       " 39513,\n",
       " 40021,\n",
       " 40199,\n",
       " 41887,\n",
       " 42304,\n",
       " 43690,\n",
       " 44141,\n",
       " 45634,\n",
       " 46209,\n",
       " 46255,\n",
       " 46938,\n",
       " 47268,\n",
       " 47497,\n",
       " 47900,\n",
       " 49197,\n",
       " 49449,\n",
       " 50451,\n",
       " 50732,\n",
       " 51433,\n",
       " 51622,\n",
       " 51927,\n",
       " 52264,\n",
       " 53576,\n",
       " 53620,\n",
       " 54844,\n",
       " 55966,\n",
       " 56096,\n",
       " 57771,\n",
       " 58196,\n",
       " 58905,\n",
       " 59748,\n",
       " 59754,\n",
       " 59896,\n",
       " 60642,\n",
       " 60965,\n",
       " 61365,\n",
       " 61390,\n",
       " 61867,\n",
       " 62458,\n",
       " 62526,\n",
       " 63557,\n",
       " 63781,\n",
       " 64185,\n",
       " 65300,\n",
       " 65308,\n",
       " 65486,\n",
       " 65771,\n",
       " 65905,\n",
       " 65974,\n",
       " 66562,\n",
       " 66778,\n",
       " 67663,\n",
       " 68047,\n",
       " 68433,\n",
       " 68485,\n",
       " 68672,\n",
       " 69595,\n",
       " 70456,\n",
       " 70476,\n",
       " 70830,\n",
       " 71580,\n",
       " 71987,\n",
       " 73041,\n",
       " 73156,\n",
       " 74009,\n",
       " 74452,\n",
       " 75250,\n",
       " 75321,\n",
       " 76164,\n",
       " 79647,\n",
       " 79758,\n",
       " 80152,\n",
       " 80170,\n",
       " 81284,\n",
       " 81312,\n",
       " 82385,\n",
       " 82872,\n",
       " 83769,\n",
       " 83947,\n",
       " 85000,\n",
       " 85052,\n",
       " 85363,\n",
       " 86074,\n",
       " 86181,\n",
       " 87253,\n",
       " 87560,\n",
       " 87759,\n",
       " 89379,\n",
       " 90493,\n",
       " 90818,\n",
       " 91279,\n",
       " 93633,\n",
       " 96555,\n",
       " 97749,\n",
       " 98064,\n",
       " 99996,\n",
       " 100068,\n",
       " 100220,\n",
       " 100453,\n",
       " 101659,\n",
       " 101740,\n",
       " 103066,\n",
       " 103388,\n",
       " 104653,\n",
       " 104749,\n",
       " 107339,\n",
       " 107561,\n",
       " 108549,\n",
       " 108594,\n",
       " 108894,\n",
       " 109775,\n",
       " 111174,\n",
       " 112313,\n",
       " 112349,\n",
       " 112611,\n",
       " 114497,\n",
       " 115225,\n",
       " 116158,\n",
       " 116830,\n",
       " 116882,\n",
       " 116947,\n",
       " 117196,\n",
       " 117374,\n",
       " 117419,\n",
       " 118539,\n",
       " 118605,\n",
       " 119907,\n",
       " 120257,\n",
       " 120524,\n",
       " 120564,\n",
       " 121951,\n",
       " 122392,\n",
       " 122604,\n",
       " 122838,\n",
       " 123529,\n",
       " 124523,\n",
       " 124524,\n",
       " 124940,\n",
       " 125739,\n",
       " 126385,\n",
       " 126696,\n",
       " 127195,\n",
       " 127213,\n",
       " 127737,\n",
       " 128026,\n",
       " 129107,\n",
       " 129627,\n",
       " 129902,\n",
       " 130629,\n",
       " 130912,\n",
       " 131211,\n",
       " 131389,\n",
       " 134731,\n",
       " 135293,\n",
       " 135320,\n",
       " 135341,\n",
       " 135376,\n",
       " 136011,\n",
       " 136498,\n",
       " 136660,\n",
       " 137445,\n",
       " 138559,\n",
       " 139256,\n",
       " 139995,\n",
       " 140141,\n",
       " 140210,\n",
       " 140388,\n",
       " 141325,\n",
       " 141701,\n",
       " 141725,\n",
       " 142427,\n",
       " 142714,\n",
       " 143089,\n",
       " 143856,\n",
       " 144123,\n",
       " 145169,\n",
       " 145200,\n",
       " 145380,\n",
       " 145466,\n",
       " 145889,\n",
       " 145936,\n",
       " 146573,\n",
       " 147593,\n",
       " 148633,\n",
       " 148880,\n",
       " 149261,\n",
       " 150414,\n",
       " 150451,\n",
       " 150977,\n",
       " 151791,\n",
       " 152830,\n",
       " 152836,\n",
       " 152856,\n",
       " 152915,\n",
       " 153166,\n",
       " 153377,\n",
       " 153678,\n",
       " 154553,\n",
       " 155190,\n",
       " 156192,\n",
       " 156661,\n",
       " 156711,\n",
       " 157410,\n",
       " 157481,\n",
       " 158050,\n",
       " 158433,\n",
       " 158673,\n",
       " 158845,\n",
       " 159044,\n",
       " 159255,\n",
       " 159670,\n",
       " 162352,\n",
       " 162804,\n",
       " 163663,\n",
       " 164773,\n",
       " 164940,\n",
       " 165665,\n",
       " 165810,\n",
       " 166237,\n",
       " 166445,\n",
       " 166635,\n",
       " 166644,\n",
       " 167666,\n",
       " 168172,\n",
       " 168292,\n",
       " 168926,\n",
       " 169884,\n",
       " 170692,\n",
       " 170737,\n",
       " 171521,\n",
       " 171870,\n",
       " 171956,\n",
       " 172791,\n",
       " 173285,\n",
       " 173512,\n",
       " 173786,\n",
       " 175408,\n",
       " 176078,\n",
       " 176339,\n",
       " 177128,\n",
       " 177576,\n",
       " 177641,\n",
       " 178895,\n",
       " 178929,\n",
       " 179335,\n",
       " 179396,\n",
       " 179520,\n",
       " 180233,\n",
       " 180457,\n",
       " 180505,\n",
       " 181293,\n",
       " 181840,\n",
       " 182111,\n",
       " 182387,\n",
       " 182637,\n",
       " 182760,\n",
       " 183122,\n",
       " 183931,\n",
       " 184503,\n",
       " 185406,\n",
       " 186315,\n",
       " 186532,\n",
       " 187126,\n",
       " 187649,\n",
       " 190509,\n",
       " 190540,\n",
       " 190730,\n",
       " 191735,\n",
       " 191943,\n",
       " 192008,\n",
       " 192087,\n",
       " ...]"
      ]
     },
     "execution_count": 155,
     "metadata": {},
     "output_type": "execute_result"
    }
   ],
   "source": [
    "user_ids_list"
   ]
  },
  {
   "cell_type": "code",
   "execution_count": 122,
   "metadata": {},
   "outputs": [
    {
     "name": "stdout",
     "output_type": "stream",
     "text": [
      "+--------------------+\n",
      "|       popular100Ids|\n",
      "+--------------------+\n",
      "|[318, 356, 296, 2...|\n",
      "+--------------------+\n",
      "\n"
     ]
    }
   ],
   "source": [
    "movie_ids_df = spark.createDataFrame([(popular100Ids,)], ['popular100Ids'])\n",
    "movie_ids_df.show()"
   ]
  },
  {
   "cell_type": "code",
   "execution_count": 142,
   "metadata": {},
   "outputs": [
    {
     "data": {
      "text/plain": [
       "list"
      ]
     },
     "execution_count": 142,
     "metadata": {},
     "output_type": "execute_result"
    }
   ],
   "source": [
    "type(user_ids_list)"
   ]
  },
  {
   "cell_type": "code",
   "execution_count": 156,
   "metadata": {},
   "outputs": [],
   "source": [
    "import pandas as pd\n",
    "\n",
    "data = [{'userId': user_id, 'items': popular100Ids} for user_id in user_ids_list]\n",
    "\n",
    "# Create a DataFrame from the list of dictionaries\n",
    "pandas_df = pd.DataFrame(data)"
   ]
  },
  {
   "cell_type": "code",
   "execution_count": 157,
   "metadata": {},
   "outputs": [],
   "source": [
    "popular_df = spark.createDataFrame(pandas_df)"
   ]
  },
  {
   "cell_type": "code",
   "execution_count": 158,
   "metadata": {},
   "outputs": [
    {
     "name": "stdout",
     "output_type": "stream",
     "text": [
      "+------+--------------------+\n",
      "|userId|               items|\n",
      "+------+--------------------+\n",
      "|   148|[318, 356, 296, 2...|\n",
      "|   463|[318, 356, 296, 2...|\n",
      "|   471|[318, 356, 296, 2...|\n",
      "|   496|[318, 356, 296, 2...|\n",
      "|   833|[318, 356, 296, 2...|\n",
      "|  1088|[318, 356, 296, 2...|\n",
      "|  1342|[318, 356, 296, 2...|\n",
      "|  1645|[318, 356, 296, 2...|\n",
      "|  1959|[318, 356, 296, 2...|\n",
      "|  2142|[318, 356, 296, 2...|\n",
      "|  2366|[318, 356, 296, 2...|\n",
      "|  3175|[318, 356, 296, 2...|\n",
      "|  3749|[318, 356, 296, 2...|\n",
      "|  3918|[318, 356, 296, 2...|\n",
      "|  5518|[318, 356, 296, 2...|\n",
      "|  5803|[318, 356, 296, 2...|\n",
      "|  6336|[318, 356, 296, 2...|\n",
      "|  6466|[318, 356, 296, 2...|\n",
      "|  6620|[318, 356, 296, 2...|\n",
      "|  7240|[318, 356, 296, 2...|\n",
      "+------+--------------------+\n",
      "only showing top 20 rows\n",
      "\n"
     ]
    }
   ],
   "source": [
    "popular_df.show()"
   ]
  },
  {
   "cell_type": "code",
   "execution_count": 159,
   "metadata": {},
   "outputs": [],
   "source": [
    "# predictionAndLabels_popularity_validation = popular_df.join(ground_truth_validation, popular_df.userId == ground_truth_validation.userId, \"inner\") \\\n",
    "#      .select(popular_df.items, ground_truth_validation.items) \\\n",
    "#      .rdd\n",
    "\n",
    "predictionAndLabels_popularity_test =  popular_df.join(ground_truth_test, popular_df.userId == ground_truth_test.userId, \"inner\") \\\n",
    "     .select(popular_df.items, ground_truth_test.items) \\\n",
    "     .rdd"
   ]
  },
  {
   "cell_type": "code",
   "execution_count": 160,
   "metadata": {},
   "outputs": [
    {
     "name": "stderr",
     "output_type": "stream",
     "text": [
      "[Stage 1811:================================================>   (185 + 7) / 200]\r"
     ]
    },
    {
     "name": "stdout",
     "output_type": "stream",
     "text": [
      "Mean Average Precision (MAP) for test set: 0.23233645525437063\n"
     ]
    },
    {
     "name": "stderr",
     "output_type": "stream",
     "text": [
      "                                                                                \r"
     ]
    }
   ],
   "source": [
    "# Create a RankingMetrics object\n",
    "# metrics_validation_popular = RankingMetrics(predictionAndLabels_popularity_validation)\n",
    "metrics_test_popular = RankingMetrics(predictionAndLabels_popularity_test)\n",
    "\n",
    "# Calculate Mean Average Precision (MAP) for validation and test sets\n",
    "# map_validation = metrics_validation_popular.meanAveragePrecisionAt(100)\n",
    "map_test = metrics_test_popular.meanAveragePrecisionAt(100)\n",
    "\n",
    "# map_validation = metrics_validation.ndcgAt(100)\n",
    "# map_test = metrics_test.ndcgAt(100)\n",
    "\n",
    "\n",
    "# print(\"Mean Average Precision (MAP) for validation set:\", map_validation)\n",
    "print(\"Mean Average Precision (MAP) for test set:\", map_test)"
   ]
  }
 ],
 "metadata": {
  "colab": {
   "provenance": []
  },
  "kernelspec": {
   "display_name": "Python 3 (ipykernel)",
   "language": "python",
   "name": "python3"
  },
  "language_info": {
   "codemirror_mode": {
    "name": "ipython",
    "version": 3
   },
   "file_extension": ".py",
   "mimetype": "text/x-python",
   "name": "python",
   "nbconvert_exporter": "python",
   "pygments_lexer": "ipython3",
   "version": "3.8.12"
  }
 },
 "nbformat": 4,
 "nbformat_minor": 1
}
